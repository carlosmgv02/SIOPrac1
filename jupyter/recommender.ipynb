{
 "cells": [
  {
   "cell_type": "markdown",
   "source": [
    "# Recommender system"
   ],
   "metadata": {
    "collapsed": false
   },
   "id": "b60ec007407eeccd"
  },
  {
   "cell_type": "markdown",
   "source": [
    "## 1. Load data from DB"
   ],
   "metadata": {
    "collapsed": false
   },
   "id": "560398e42a196198"
  },
  {
   "cell_type": "code",
   "outputs": [],
   "source": [
    "import random\n",
    "from sqlalchemy.orm import sessionmaker\n",
    "from lightfm import LightFM\n",
    "from lightfm.data import Dataset\n",
    "from lightfm.evaluation import precision_at_k, auc_score\n",
    "from config.warehouse_config import get_db_engine\n",
    "\n",
    "# Configuración de la sesión de SQLAlchemy\n",
    "Session = sessionmaker(bind=get_db_engine())\n",
    "session = Session()\n"
   ],
   "metadata": {
    "collapsed": false,
    "ExecuteTime": {
     "end_time": "2024-05-05T02:25:43.130154Z",
     "start_time": "2024-05-05T02:25:43.126778Z"
    }
   },
   "id": "793f7c43a0bf85eb",
   "execution_count": 250
  },
  {
   "cell_type": "markdown",
   "source": [
    "## 2. Prepare the dataset"
   ],
   "metadata": {
    "collapsed": false
   },
   "id": "e31b0dae2355ddf2"
  },
  {
   "cell_type": "code",
   "outputs": [],
   "source": [
    "from model.warehouse import User, Titles, Genres, Platforms, UserPreferences, session\n",
    "\n",
    "\n",
    "\n",
    "dataset = Dataset()\n",
    "\n",
    "# Obtener datos de usuario y título\n",
    "users = session.query(User).all()\n",
    "titles = session.query(Titles).all()\n",
    "\n",
    "all_genre_names = [genre.name for genre in session.query(Genres).all()]\n",
    "all_country_codes = set(country.country_code for title in titles for country in title.countries)\n",
    "all_imdb_scores = set(f\"imdb_score:{title.imdb_score if title.imdb_score is not None else 'Unknown'}\" for title in titles)\n",
    "all_tmdb_scores = set(f\"tmdb_score:{title.tmdb_score if title.tmdb_score is not None else 'Unknown'}\" for title in titles)\n",
    "all_types = set(f\"type:{title.type if title.type is not None else 'Unknown'}\" for title in titles)\n",
    "\n"
   ],
   "metadata": {
    "collapsed": false,
    "ExecuteTime": {
     "end_time": "2024-05-05T02:25:50.491546Z",
     "start_time": "2024-05-05T02:25:43.135677Z"
    }
   },
   "id": "fca3949322ecbdb4",
   "execution_count": 251
  },
  {
   "cell_type": "code",
   "outputs": [],
   "source": [
    "all_preferred_types = set()\n",
    "all_favorite_genres = set()\n",
    "all_preferred_platforms = set()\n",
    "\n",
    "for user in users:\n",
    "    if user.preferences:\n",
    "        all_preferred_types.add(user.preferences.preferred_type if user.preferences.preferred_type else 'Unknown')\n",
    "        if user.preferences.favorite_genre_id:\n",
    "            genre = session.get(Genres, user.preferences.favorite_genre_id)\n",
    "            all_favorite_genres.add(genre.name if genre else 'Unknown')\n",
    "        if user.preferences.preferred_platform_id:\n",
    "            platform = session.get(Platforms, user.preferences.preferred_platform_id)\n",
    "            all_preferred_platforms.add(platform.name if platform else 'Unknown')\n",
    "    else:\n",
    "        all_preferred_types.add('Unknown')\n",
    "        all_favorite_genres.add('Unknown')\n",
    "        all_preferred_platforms.add('Unknown')\n",
    "\n"
   ],
   "metadata": {
    "collapsed": false,
    "ExecuteTime": {
     "end_time": "2024-05-05T02:25:50.498604Z",
     "start_time": "2024-05-05T02:25:50.492506Z"
    }
   },
   "id": "3b26ab462b47a11f",
   "execution_count": 252
  },
  {
   "cell_type": "code",
   "outputs": [
    {
     "data": {
      "text/plain": "['country_code:TH',\n 'country_code:AF',\n 'country_code:ZM',\n 'country_code:KN',\n 'country_code:LT']"
     },
     "execution_count": 253,
     "metadata": {},
     "output_type": "execute_result"
    }
   ],
   "source": [
    "all_item_features = (\n",
    "    [f\"country_code:{code}\" for code in all_country_codes] +\n",
    "    list(all_imdb_scores) +\n",
    "    list(all_tmdb_scores) +\n",
    "    list(all_types) +\n",
    "    [f\"genre:{genre}\" for genre in all_genre_names]\n",
    ")\n",
    "all_item_features[:5]"
   ],
   "metadata": {
    "collapsed": false,
    "ExecuteTime": {
     "end_time": "2024-05-05T02:25:50.501425Z",
     "start_time": "2024-05-05T02:25:50.499234Z"
    }
   },
   "id": "17fcbfef79d0dbe3",
   "execution_count": 253
  },
  {
   "cell_type": "code",
   "outputs": [
    {
     "data": {
      "text/plain": "['preferred_type:Unknown',\n 'preferred_type:SHOW',\n 'favorite_genre:reality',\n 'favorite_genre:Unknown',\n 'favorite_genre:fantasy']"
     },
     "execution_count": 254,
     "metadata": {},
     "output_type": "execute_result"
    }
   ],
   "source": [
    "all_user_features = (\n",
    "    [f\"preferred_type:{type}\" for type in all_preferred_types] +\n",
    "    [f\"favorite_genre:{genre}\" for genre in all_favorite_genres] +\n",
    "    [f\"preferred_platform:{platform}\" for platform in all_preferred_platforms]\n",
    ")\n",
    "all_user_features[:5]"
   ],
   "metadata": {
    "collapsed": false,
    "ExecuteTime": {
     "end_time": "2024-05-05T02:25:50.504970Z",
     "start_time": "2024-05-05T02:25:50.502645Z"
    }
   },
   "id": "4169ba6944338326",
   "execution_count": 254
  },
  {
   "cell_type": "code",
   "outputs": [],
   "source": [
    "# Ajustar el dataset para incluir todas las características\n",
    "dataset.fit(\n",
    "    users=[user.id for user in users],\n",
    "    items=[title.id for title in titles],\n",
    "    item_features=all_item_features,\n",
    "    user_features=all_user_features\n",
    ")"
   ],
   "metadata": {
    "collapsed": false,
    "ExecuteTime": {
     "end_time": "2024-05-05T02:25:50.517396Z",
     "start_time": "2024-05-05T02:25:50.505662Z"
    }
   },
   "id": "3ce2be77176fc77c",
   "execution_count": 255
  },
  {
   "cell_type": "markdown",
   "source": [
    "## 3. Build interactions"
   ],
   "metadata": {
    "collapsed": false
   },
   "id": "7e59e151c353829e"
  },
  {
   "cell_type": "code",
   "outputs": [],
   "source": [
    "from model.warehouse import Platforms, UserInteractions, Genres\n",
    "\n",
    "# Asumiendo que la sesión de SQLAlchemy ya está configurada y los modelos importados\n",
    "session = Session()\n",
    "\n",
    "# Carga de datos necesarios\n",
    "users = session.query(User).all()\n",
    "titles = session.query(Titles).all()\n",
    "genres = session.query(Genres).all()\n",
    "\n",
    "# Construcción de interacciones\n",
    "interactions, weights = dataset.build_interactions(\n",
    "    ((interaction.user_id, interaction.title_id, interaction.rating)\n",
    "     for interaction in session.query(UserInteractions).all())\n",
    ")\n",
    "\n",
    "# Construcción de características de ítems\n",
    "item_features = dataset.build_item_features(\n",
    "    (title.id, [\n",
    "        f\"country_code:{country.country_code}\" for country in title.countries\n",
    "    ] + [\n",
    "        f\"imdb_score:{title.imdb_score if title.imdb_score is not None else 'Unknown'}\",\n",
    "        f\"tmdb_score:{title.tmdb_score if title.tmdb_score is not None else 'Unknown'}\",\n",
    "        f\"type:{title.type if title.type is not None else 'Unknown'}\"\n",
    "    ] + [f\"genre:{genre.name}\" for genre in title.genres]) for title in titles\n",
    ")\n",
    "\n",
    "# Construcción de características de usuarios\n",
    "user_features = dataset.build_user_features(\n",
    "    (user.id, [\n",
    "        f\"preferred_type:{user.preferences.preferred_type if user.preferences and user.preferences.preferred_type else 'Unknown'}\" if user.preferences else 'preferred_type:Unknown',\n",
    "        f\"favorite_genre:{session.get(Genres, user.preferences.favorite_genre_id).name if user.preferences and user.preferences.favorite_genre_id else 'Unknown'}\" if user.preferences and user.preferences.favorite_genre_id else 'favorite_genre:Unknown',\n",
    "        f\"preferred_platform:{session.get(Platforms, user.preferences.preferred_platform_id).name if user.preferences and user.preferences.preferred_platform_id else 'Unknown'}\" if user.preferences and user.preferences.preferred_platform_id else 'preferred_platform:Unknown'\n",
    "    ]) for user in users\n",
    ")\n"
   ],
   "metadata": {
    "collapsed": false,
    "ExecuteTime": {
     "end_time": "2024-05-05T02:26:04.285277Z",
     "start_time": "2024-05-05T02:25:50.518122Z"
    }
   },
   "id": "fd67f1da3c106d20",
   "execution_count": 256
  },
  {
   "cell_type": "markdown",
   "source": [
    "## 4. Train model"
   ],
   "metadata": {
    "collapsed": false
   },
   "id": "7aabe5f11a0fb742"
  },
  {
   "cell_type": "code",
   "outputs": [],
   "source": [
    "from recommenderUtils import train_model\n",
    "\n",
    "model = train_model(interactions, item_features, user_features)"
   ],
   "metadata": {
    "collapsed": false,
    "ExecuteTime": {
     "end_time": "2024-05-05T02:26:04.295181Z",
     "start_time": "2024-05-05T02:26:04.286029Z"
    }
   },
   "id": "e951d0c9f964a458",
   "execution_count": 257
  },
  {
   "cell_type": "markdown",
   "source": [
    "## 5. Evaluate model"
   ],
   "metadata": {
    "collapsed": false
   },
   "id": "e022a74030e1f24b"
  },
  {
   "cell_type": "code",
   "outputs": [
    {
     "name": "stdout",
     "output_type": "stream",
     "text": [
      "Train Precision: 0.10000000149011612\n",
      "Train AUC: 0.9844566583633423\n"
     ]
    }
   ],
   "source": [
    "from recommenderUtils import evaluate_model\n",
    "\n",
    "train_auc,train_precision = evaluate_model(model, interactions, item_features, user_features)\n",
    "print(f'Train Precision: {train_precision}')\n",
    "print(f'Train AUC: {train_auc}')"
   ],
   "metadata": {
    "collapsed": false,
    "ExecuteTime": {
     "end_time": "2024-05-05T02:26:04.308891Z",
     "start_time": "2024-05-05T02:26:04.295796Z"
    }
   },
   "id": "f98229f3d59b9f2d",
   "execution_count": 258
  },
  {
   "cell_type": "markdown",
   "source": [
    "## 5.1 Add more rows to the dataset"
   ],
   "metadata": {
    "collapsed": false
   },
   "id": "382b18ce223cfc02"
  }
 ],
 "metadata": {
  "kernelspec": {
   "display_name": "Python 3",
   "language": "python",
   "name": "python3"
  },
  "language_info": {
   "codemirror_mode": {
    "name": "ipython",
    "version": 2
   },
   "file_extension": ".py",
   "mimetype": "text/x-python",
   "name": "python",
   "nbconvert_exporter": "python",
   "pygments_lexer": "ipython2",
   "version": "2.7.6"
  }
 },
 "nbformat": 4,
 "nbformat_minor": 5
}
