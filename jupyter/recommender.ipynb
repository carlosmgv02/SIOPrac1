{
 "cells": [
  {
   "cell_type": "markdown",
   "id": "b60ec007407eeccd",
   "metadata": {
    "collapsed": false
   },
   "source": [
    "# Recommender system"
   ]
  },
  {
   "cell_type": "markdown",
   "id": "560398e42a196198",
   "metadata": {
    "collapsed": false
   },
   "source": [
    "## 1. Load data from DB"
   ]
  },
  {
   "cell_type": "code",
   "execution_count": 1,
   "id": "793f7c43a0bf85eb",
   "metadata": {
    "ExecuteTime": {
     "end_time": "2024-05-05T19:53:18.236737Z",
     "start_time": "2024-05-05T19:53:17.946827Z"
    },
    "collapsed": false
   },
   "outputs": [
    {
     "name": "stderr",
     "output_type": "stream",
     "text": [
      "/Users/carlos/Documents/Uni/SIO/Prac1/.venv/lib/python3.10/site-packages/lightfm/_lightfm_fast.py:9: UserWarning: LightFM was compiled without OpenMP support. Only a single thread will be used.\n",
      "  warnings.warn(\n"
     ]
    }
   ],
   "source": [
    "import random\n",
    "from sqlalchemy.orm import sessionmaker\n",
    "from lightfm import LightFM\n",
    "from lightfm.data import Dataset\n",
    "from lightfm.evaluation import precision_at_k, auc_score\n",
    "from config.warehouse_config import get_db_engine\n",
    "\n",
    "# Configuración de la sesión de SQLAlchemy\n",
    "Session = sessionmaker(bind=get_db_engine())\n",
    "session = Session()\n"
   ]
  },
  {
   "cell_type": "markdown",
   "id": "e31b0dae2355ddf2",
   "metadata": {
    "collapsed": false
   },
   "source": [
    "## 2. Prepare the dataset"
   ]
  },
  {
   "cell_type": "code",
   "execution_count": 2,
   "id": "fca3949322ecbdb4",
   "metadata": {
    "ExecuteTime": {
     "end_time": "2024-05-05T19:53:26.235012Z",
     "start_time": "2024-05-05T19:53:18.237500Z"
    },
    "collapsed": false
   },
   "outputs": [],
   "source": [
    "from model.warehouse import User, Titles, Genres, Platforms, UserPreferences, session\n",
    "\n",
    "\n",
    "\n",
    "dataset = Dataset()\n",
    "\n",
    "# Obtener datos de usuario y título\n",
    "users = session.query(User).all()\n",
    "titles = session.query(Titles).all()\n",
    "\n",
    "all_genre_names = [genre.name for genre in session.query(Genres).all()]\n",
    "all_country_codes = set(country.country_code for title in titles for country in title.countries)\n",
    "all_imdb_scores = set(f\"imdb_score:{title.imdb_score if title.imdb_score is not None else 'Unknown'}\" for title in titles)\n",
    "all_tmdb_scores = set(f\"tmdb_score:{title.tmdb_score if title.tmdb_score is not None else 'Unknown'}\" for title in titles)\n",
    "all_types = set(f\"type:{title.type if title.type is not None else 'Unknown'}\" for title in titles)\n",
    "\n"
   ]
  },
  {
   "cell_type": "code",
   "execution_count": 3,
   "id": "3b26ab462b47a11f",
   "metadata": {
    "ExecuteTime": {
     "end_time": "2024-05-05T19:53:26.244700Z",
     "start_time": "2024-05-05T19:53:26.236477Z"
    },
    "collapsed": false
   },
   "outputs": [],
   "source": [
    "all_preferred_types = set()\n",
    "all_favorite_genres = set()\n",
    "all_preferred_platforms = set()\n",
    "\n",
    "for user in users:\n",
    "    if user.preferences:\n",
    "        all_preferred_types.add(user.preferences.preferred_type if user.preferences.preferred_type else 'Unknown')\n",
    "        if user.preferences.favorite_genre_id:\n",
    "            genre = session.get(Genres, user.preferences.favorite_genre_id)\n",
    "            all_favorite_genres.add(genre.name if genre else 'Unknown')\n",
    "        if user.preferences.preferred_platform_id:\n",
    "            platform = session.get(Platforms, user.preferences.preferred_platform_id)\n",
    "            all_preferred_platforms.add(platform.name if platform else 'Unknown')\n",
    "    else:\n",
    "        all_preferred_types.add('Unknown')\n",
    "        all_favorite_genres.add('Unknown')\n",
    "        all_preferred_platforms.add('Unknown')\n",
    "\n"
   ]
  },
  {
   "cell_type": "code",
   "execution_count": 4,
   "id": "17fcbfef79d0dbe3",
   "metadata": {
    "ExecuteTime": {
     "end_time": "2024-05-05T19:53:26.248532Z",
     "start_time": "2024-05-05T19:53:26.245341Z"
    },
    "collapsed": false
   },
   "outputs": [
    {
     "data": {
      "text/plain": [
       "['country_code:NP',\n",
       " 'country_code:CO',\n",
       " 'country_code:PL',\n",
       " 'country_code:BY',\n",
       " 'country_code:MT']"
      ]
     },
     "execution_count": 4,
     "metadata": {},
     "output_type": "execute_result"
    }
   ],
   "source": [
    "all_item_features = (\n",
    "    [f\"country_code:{code}\" for code in all_country_codes] +\n",
    "    list(all_imdb_scores) +\n",
    "    list(all_tmdb_scores) +\n",
    "    list(all_types) +\n",
    "    [f\"genre:{genre}\" for genre in all_genre_names]\n",
    ")\n",
    "all_item_features[:5]"
   ]
  },
  {
   "cell_type": "code",
   "execution_count": 5,
   "id": "4169ba6944338326",
   "metadata": {
    "ExecuteTime": {
     "end_time": "2024-05-05T19:53:26.251279Z",
     "start_time": "2024-05-05T19:53:26.249009Z"
    },
    "collapsed": false
   },
   "outputs": [
    {
     "data": {
      "text/plain": [
       "['preferred_type:Unknown',\n",
       " 'preferred_type:SHOW',\n",
       " 'favorite_genre:reality',\n",
       " 'favorite_genre:fantasy',\n",
       " 'favorite_genre:Unknown']"
      ]
     },
     "execution_count": 5,
     "metadata": {},
     "output_type": "execute_result"
    }
   ],
   "source": [
    "all_user_features = (\n",
    "    [f\"preferred_type:{type}\" for type in all_preferred_types] +\n",
    "    [f\"favorite_genre:{genre}\" for genre in all_favorite_genres] +\n",
    "    [f\"preferred_platform:{platform}\" for platform in all_preferred_platforms]\n",
    ")\n",
    "all_user_features[:5]"
   ]
  },
  {
   "cell_type": "code",
   "execution_count": 6,
   "id": "3ce2be77176fc77c",
   "metadata": {
    "ExecuteTime": {
     "end_time": "2024-05-05T19:53:26.264787Z",
     "start_time": "2024-05-05T19:53:26.251807Z"
    },
    "collapsed": false
   },
   "outputs": [],
   "source": [
    "# Ajustar el dataset para incluir todas las características\n",
    "dataset.fit(\n",
    "    users=[user.id for user in users],\n",
    "    items=[title.id for title in titles],\n",
    "    item_features=all_item_features,\n",
    "    user_features=all_user_features\n",
    ")"
   ]
  },
  {
   "cell_type": "markdown",
   "id": "7e59e151c353829e",
   "metadata": {
    "collapsed": false
   },
   "source": [
    "## 3. Build interactions"
   ]
  },
  {
   "cell_type": "code",
   "execution_count": 7,
   "id": "fd67f1da3c106d20",
   "metadata": {
    "ExecuteTime": {
     "end_time": "2024-05-05T19:53:40.533633Z",
     "start_time": "2024-05-05T19:53:26.265518Z"
    },
    "collapsed": false
   },
   "outputs": [],
   "source": [
    "from model.warehouse import Platforms, UserInteractions, Genres\n",
    "\n",
    "# Asumiendo que la sesión de SQLAlchemy ya está configurada y los modelos importados\n",
    "session = Session()\n",
    "\n",
    "# Carga de datos necesarios\n",
    "users = session.query(User).all()\n",
    "titles = session.query(Titles).all()\n",
    "genres = session.query(Genres).all()\n",
    "\n",
    "# Construcción de interacciones\n",
    "interactions, weights = dataset.build_interactions(\n",
    "    ((interaction.user_id, interaction.title_id, interaction.rating)\n",
    "     for interaction in session.query(UserInteractions).all())\n",
    ")\n",
    "\n",
    "# Construcción de características de ítems\n",
    "item_features = dataset.build_item_features(\n",
    "    (title.id, [\n",
    "        f\"country_code:{country.country_code}\" for country in title.countries\n",
    "    ] + [\n",
    "        f\"imdb_score:{title.imdb_score if title.imdb_score is not None else 'Unknown'}\",\n",
    "        f\"tmdb_score:{title.tmdb_score if title.tmdb_score is not None else 'Unknown'}\",\n",
    "        f\"type:{title.type if title.type is not None else 'Unknown'}\"\n",
    "    ] + [f\"genre:{genre.name}\" for genre in title.genres]) for title in titles\n",
    ")\n",
    "\n",
    "# Construcción de características de usuarios\n",
    "user_features = dataset.build_user_features(\n",
    "    (user.id, [\n",
    "        f\"preferred_type:{user.preferences.preferred_type if user.preferences and user.preferences.preferred_type else 'Unknown'}\" if user.preferences else 'preferred_type:Unknown',\n",
    "        f\"favorite_genre:{session.get(Genres, user.preferences.favorite_genre_id).name if user.preferences and user.preferences.favorite_genre_id else 'Unknown'}\" if user.preferences and user.preferences.favorite_genre_id else 'favorite_genre:Unknown',\n",
    "        f\"preferred_platform:{session.get(Platforms, user.preferences.preferred_platform_id).name if user.preferences and user.preferences.preferred_platform_id else 'Unknown'}\" if user.preferences and user.preferences.preferred_platform_id else 'preferred_platform:Unknown'\n",
    "    ]) for user in users\n",
    ")\n"
   ]
  },
  {
   "cell_type": "markdown",
   "id": "7aabe5f11a0fb742",
   "metadata": {
    "collapsed": false
   },
   "source": [
    "## 4. Train model"
   ]
  },
  {
   "cell_type": "code",
   "execution_count": 8,
   "id": "e951d0c9f964a458",
   "metadata": {
    "ExecuteTime": {
     "end_time": "2024-05-05T19:53:53.872937Z",
     "start_time": "2024-05-05T19:53:40.534181Z"
    },
    "collapsed": false
   },
   "outputs": [
    {
     "name": "stdout",
     "output_type": "stream",
     "text": [
      "0 interacciones han sido generadas e insertadas.\n",
      "0 interacciones han sido eliminadas.\n",
      "10 interacciones han sido generadas e insertadas.\n",
      "10 interacciones han sido eliminadas.\n",
      "20 interacciones han sido generadas e insertadas.\n",
      "20 interacciones han sido eliminadas.\n",
      "50 interacciones han sido generadas e insertadas.\n",
      "50 interacciones han sido eliminadas.\n",
      "100 interacciones han sido generadas e insertadas.\n",
      "100 interacciones han sido eliminadas.\n",
      "200 interacciones han sido generadas e insertadas.\n",
      "200 interacciones han sido eliminadas.\n",
      "500 interacciones han sido generadas e insertadas.\n",
      "500 interacciones han sido eliminadas.\n",
      "1000 interacciones han sido generadas e insertadas.\n",
      "1000 interacciones han sido eliminadas.\n",
      "10000 interacciones han sido generadas e insertadas.\n",
      "10000 interacciones han sido eliminadas.\n"
     ]
    },
    {
     "data": {
      "image/png": "[encoded data removed]",
      "text/plain": [
       "<Figure size 1200x600 with 2 Axes>"
      ]
     },
     "metadata": {},
     "output_type": "display_data"
    }
   ],
   "source": [
    "from recommenderUtils import train_model\n",
    "\n",
    "model = train_model(interactions, item_features, user_features)"
   ]
  },
  {
   "cell_type": "markdown",
   "id": "e022a74030e1f24b",
   "metadata": {
    "collapsed": false
   },
   "source": [
    "## 5. Evaluate model"
   ]
  },
  {
   "cell_type": "markdown",
   "source": [
    "Podemos comprobar que cuantos más datos tenemos, más precisa es la predicción del algoritmo, no obstante habría que hacer crowdsourcing para evaluar la calidad de las recomendaciones y poder tener datos basados en el gusto real de los usuarios."
   ],
   "metadata": {
    "collapsed": false
   },
   "id": "2befe190cd9420cd"
  },
  {
   "cell_type": "code",
   "execution_count": 10,
   "id": "f98229f3d59b9f2d",
   "metadata": {
    "collapsed": false,
    "ExecuteTime": {
     "end_time": "2024-05-05T20:05:36.718286Z",
     "start_time": "2024-05-05T20:05:36.684662Z"
    }
   },
   "outputs": [
    {
     "name": "stdout",
     "output_type": "stream",
     "text": [
      "Train Precision: 0.07999999821186066\n",
      "Train AUC: 0.9835641980171204\n"
     ]
    }
   ],
   "source": [
    "from recommenderUtils import evaluate_model\n",
    "\n",
    "train_auc,train_precision = evaluate_model(model, interactions, item_features, user_features)\n",
    "print(f'Train Precision: {train_precision}')\n",
    "print(f'Train AUC: {train_auc}')"
   ]
  },
  {
   "cell_type": "markdown",
   "id": "382b18ce223cfc02",
   "metadata": {
    "collapsed": false
   },
   "source": [
    "## 5.1 Add more rows to the dataset"
   ]
  }
 ],
 "metadata": {
  "kernelspec": {
   "display_name": "Python 3 (ipykernel)",
   "language": "python",
   "name": "python3"
  },
  "language_info": {
   "codemirror_mode": {
    "name": "ipython",
    "version": 3
   },
   "file_extension": ".py",
   "mimetype": "text/x-python",
   "name": "python",
   "nbconvert_exporter": "python",
   "pygments_lexer": "ipython3",
   "version": "3.10.11"
  }
 },
 "nbformat": 4,
 "nbformat_minor": 5
}
