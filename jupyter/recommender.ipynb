{
 "cells": [
  {
   "cell_type": "markdown",
   "source": [
    "# Recommender system"
   ],
   "metadata": {
    "collapsed": false
   },
   "id": "b60ec007407eeccd"
  },
  {
   "cell_type": "markdown",
   "source": [
    "## 1. Load data from DB"
   ],
   "metadata": {
    "collapsed": false
   },
   "id": "560398e42a196198"
  },
  {
   "cell_type": "code",
   "outputs": [],
   "source": [
    "from model.warehouse import UserInteractions\n",
    "from sqlalchemy.orm import sessionmaker\n",
    "from lightfm.data import Dataset\n",
    "from config.warehouse_config import get_db_engine\n",
    "\n",
    "Session = sessionmaker(bind=get_db_engine())\n",
    "session = Session()\n",
    "dataset = Dataset()\n",
    "\n",
    "user_interactions = session.query(UserInteractions).all()"
   ],
   "metadata": {
    "collapsed": false
   },
   "id": "793f7c43a0bf85eb",
   "execution_count": null
  },
  {
   "cell_type": "code",
   "outputs": [],
   "source": [
    "user_ids = [interaction.user_id for interaction in user_interactions]\n",
    "item_ids = [interaction.title_id for interaction in user_interactions]\n",
    "ratings = [interaction.rating for interaction in user_interactions]\n",
    "\n",
    "dataset.fit(users=user_ids, items=item_ids)\n",
    "\n",
    "interactions, weights = dataset.build_interactions(zip(user_ids, item_ids, ratings))"
   ],
   "metadata": {
    "collapsed": false
   },
   "id": "fa2acf71ce7dadd6",
   "execution_count": null
  },
  {
   "cell_type": "markdown",
   "source": [
    "## 2. Preprocess data & train model"
   ],
   "metadata": {
    "collapsed": false
   },
   "id": "e31b0dae2355ddf2"
  },
  {
   "cell_type": "code",
   "outputs": [],
   "source": [
    "from model.warehouse import Genres\n",
    "from lightfm import LightFM\n",
    "from lightfm.evaluation import precision_at_k\n",
    "\n",
    "genres = session.query(Genres).all()\n",
    "genre_id_map = {genre.id: index + 1 for index, genre in enumerate(genres)}\n",
    "\n",
    "genre_ids_adjusted = [genre_id_map[genre.id] for genre in genres]\n",
    "dataset.fit_partial(items=genre_ids_adjusted, item_features=genre_ids_adjusted)\n",
    "\n"
   ],
   "metadata": {
    "collapsed": false
   },
   "id": "4f818a2e41299eb6",
   "execution_count": null
  },
  {
   "cell_type": "code",
   "outputs": [],
   "source": [
    "item_features = dataset.build_item_features([(genre_id_map[genre.id], [genre.id]) for genre in genres])"
   ],
   "metadata": {
    "collapsed": false
   },
   "id": "720f91fc7edfd457",
   "execution_count": null
  },
  {
   "cell_type": "code",
   "outputs": [],
   "source": [
    "model = LightFM(loss='warp')\n",
    "model.fit(interactions, item_features=item_features, epochs=20)"
   ],
   "metadata": {
    "collapsed": false
   },
   "id": "1a299f38de8599e3",
   "execution_count": null
  },
  {
   "cell_type": "markdown",
   "source": [
    "## 3. Evaluate model"
   ],
   "metadata": {
    "collapsed": false
   },
   "id": "e022a74030e1f24b"
  },
  {
   "cell_type": "code",
   "outputs": [],
   "source": [
    "train_precision = precision_at_k(model, interactions, item_features=item_features, k=10).mean()\n",
    "print(f'Train precision: {train_precision}')"
   ],
   "metadata": {
    "collapsed": false
   },
   "id": "f98229f3d59b9f2d",
   "execution_count": null
  }
 ],
 "metadata": {
  "kernelspec": {
   "display_name": "Python 3",
   "language": "python",
   "name": "python3"
  },
  "language_info": {
   "codemirror_mode": {
    "name": "ipython",
    "version": 2
   },
   "file_extension": ".py",
   "mimetype": "text/x-python",
   "name": "python",
   "nbconvert_exporter": "python",
   "pygments_lexer": "ipython2",
   "version": "2.7.6"
  }
 },
 "nbformat": 4,
 "nbformat_minor": 5
}
